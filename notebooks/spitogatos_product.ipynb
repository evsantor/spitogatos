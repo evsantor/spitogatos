{
 "cells": [
  {
   "cell_type": "code",
   "execution_count": 75,
   "id": "56128fb0",
   "metadata": {},
   "outputs": [],
   "source": [
    "import pandas as pd\n",
    "import numpy as np\n",
    "import matplotlib.pyplot as plt\n",
    "import seaborn as sns\n",
    "\n",
    "import xgboost as xgb\n",
    "from sklearn.linear_model import LinearRegression\n",
    "from sklearn.decomposition import PCA\n",
    "\n",
    "from sklearn.svm import SVR\n",
    "from sklearn.preprocessing import LabelEncoder\n",
    "from sklearn.ensemble import RandomForestRegressor\n",
    "from sklearn.model_selection import cross_val_score\n",
    "from sklearn.metrics import r2_score\n",
    "from sklearn.preprocessing import MinMaxScaler\n",
    "from sklearn.svm import SVR\n",
    "from sklearn.model_selection import GridSearchCV"
   ]
  },
  {
   "cell_type": "code",
   "execution_count": 35,
   "id": "715c2e79",
   "metadata": {},
   "outputs": [],
   "source": [
    "from pylab import rcParams\n",
    "rcParams['figure.figsize'] = 12, 6"
   ]
  },
  {
   "cell_type": "code",
   "execution_count": 99,
   "id": "c3abcb85",
   "metadata": {},
   "outputs": [],
   "source": [
    "df = pd.read_csv(\"cleaned_data.csv\")\n",
    "numerical_df = df.select_dtypes(include='number').drop(['price', 'id'], axis=1)\n",
    "non_categorical = numerical_df.columns.to_list() + ['price', 'id']\n",
    "categorical_df = df.drop(non_categorical, axis=1)"
   ]
  },
  {
   "cell_type": "markdown",
   "id": "f9146f7f",
   "metadata": {},
   "source": [
    "Another idea instead of label encoder is to use one hot encoding that is not based on ordering and might improved the scores. "
   ]
  },
  {
   "cell_type": "code",
   "execution_count": 103,
   "id": "be6bb451",
   "metadata": {},
   "outputs": [],
   "source": [
    "labelencoder = LabelEncoder()\n",
    "for col in categorical_df:\n",
    "    categorical_df[col] = labelencoder.fit_transform(categorical_df[col])\n",
    "    \n",
    "x = numerical_df.join(categorical_df)\n",
    "y = df['price']"
   ]
  },
  {
   "cell_type": "code",
   "execution_count": 104,
   "id": "f08688b4",
   "metadata": {},
   "outputs": [
    {
     "data": {
      "text/plain": [
       "Index(['ranking_score', 'agent_id', 'sq_meters', 'year_of_construction',\n",
       "       'floor', 'rooms', 'no_of_bathrooms', 'no_of_wc', 'living_rooms',\n",
       "       'kitchens', 'balcony_area', 'geography_name', 'subtype', 'ad_type',\n",
       "       'lux_home', 'new_development', 'garage', 'furnished', 'preserved',\n",
       "       'investment', 'unfinished', 'heating_under_floor', 'renovated',\n",
       "       'requires_renovation', 'airy', 'bright', 'painted', 'garden', 'ac',\n",
       "       'storage', 'balcony', 'internal_stairs', 'view', 'secure_door',\n",
       "       'penthouse', 'alarm', 'corner', 'holiday_home', 'student_home',\n",
       "       'night_power', 'neoclassic', 'double_glass', 'for_commercial_use',\n",
       "       'fireplace', 'elevator', 'satellite', 'solar_heater', 'attic', 'pool',\n",
       "       'playroom'],\n",
       "      dtype='object')"
      ]
     },
     "execution_count": 104,
     "metadata": {},
     "output_type": "execute_result"
    }
   ],
   "source": [
    "x.columns"
   ]
  },
  {
   "cell_type": "code",
   "execution_count": 105,
   "id": "47a31a0a",
   "metadata": {},
   "outputs": [
    {
     "data": {
      "text/plain": [
       "0.6000125067993285"
      ]
     },
     "execution_count": 105,
     "metadata": {},
     "output_type": "execute_result"
    }
   ],
   "source": [
    "rf = RandomForestRegressor()\n",
    "rf = rf.fit(x, y)\n",
    "scores = cross_val_score(rf, x, y, cv=5, scoring='r2')\n",
    "scores.mean()"
   ]
  },
  {
   "cell_type": "code",
   "execution_count": 19,
   "id": "67d0dce8",
   "metadata": {},
   "outputs": [
    {
     "name": "stdout",
     "output_type": "stream",
     "text": [
      "sq_meters 0.6347029387537368\n",
      "year_of_construction 0.09543010172258684\n",
      "geography_name 0.03775723179193718\n",
      "floor 0.02977608750106865\n",
      "ranking_score 0.020283418836584563\n",
      "rooms 0.017220393879783136\n",
      "agent_id 0.017050102748104725\n",
      "no_of_wc 0.013961031251900133\n",
      "subtype 0.012078447508467711\n",
      "no_of_bathrooms 0.011896539231994735\n"
     ]
    }
   ],
   "source": [
    "importance = sorted(zip(x.columns, bestF.feature_importances_), key=lambda k: k[1], reverse=True)[:10]\n",
    "for col, v in importance:\n",
    "    if v == 0:\n",
    "        continue\n",
    "    print(col,v)"
   ]
  },
  {
   "cell_type": "code",
   "execution_count": 109,
   "id": "8a1666bc",
   "metadata": {},
   "outputs": [
    {
     "name": "stdout",
     "output_type": "stream",
     "text": [
      "Fitting 5 folds for each of 16 candidates, totalling 80 fits\n"
     ]
    },
    {
     "data": {
      "text/plain": [
       "GridSearchCV(cv=5, estimator=RandomForestRegressor(), n_jobs=-1,\n",
       "             param_grid={'max_depth': [10, 15], 'min_samples_leaf': [2, 4],\n",
       "                         'min_samples_split': [2, 5],\n",
       "                         'n_estimators': [150, 200]},\n",
       "             scoring='r2', verbose=1)"
      ]
     },
     "execution_count": 109,
     "metadata": {},
     "output_type": "execute_result"
    }
   ],
   "source": [
    "n_estimators = [150, 200]\n",
    "max_depth = [10, 15]\n",
    "min_samples_split = [2, 5]\n",
    "min_samples_leaf = [2, 4] \n",
    "\n",
    "hyperF = dict(n_estimators = n_estimators, max_depth = max_depth,  \n",
    "              min_samples_split = min_samples_split, \n",
    "             min_samples_leaf = min_samples_leaf)\n",
    "\n",
    "rf = RandomForestRegressor()\n",
    "gridF = GridSearchCV(rf, hyperF, verbose = 1, n_jobs = -1, cv=5, scoring='r2')\n",
    "gridF.fit(x, y)"
   ]
  },
  {
   "cell_type": "code",
   "execution_count": 110,
   "id": "fa33f058",
   "metadata": {},
   "outputs": [
    {
     "data": {
      "text/plain": [
       "0.6141888130266582"
      ]
     },
     "execution_count": 110,
     "metadata": {},
     "output_type": "execute_result"
    }
   ],
   "source": [
    "gridF.best_score_"
   ]
  },
  {
   "cell_type": "code",
   "execution_count": 111,
   "id": "b56ab783",
   "metadata": {},
   "outputs": [
    {
     "data": {
      "text/plain": [
       "{'max_depth': 15,\n",
       " 'min_samples_leaf': 2,\n",
       " 'min_samples_split': 5,\n",
       " 'n_estimators': 150}"
      ]
     },
     "execution_count": 111,
     "metadata": {},
     "output_type": "execute_result"
    }
   ],
   "source": [
    "gridF.best_params_"
   ]
  },
  {
   "cell_type": "code",
   "execution_count": 85,
   "id": "f295152a",
   "metadata": {},
   "outputs": [
    {
     "name": "stdout",
     "output_type": "stream",
     "text": [
      "agent_id 0.7684522725207348\n",
      "ranking_score 0.2081973412383902\n",
      "balcony_area 0.002839231822460844\n",
      "year_of_construction 0.001752828678042224\n",
      "renovated 0.0015555109952059428\n",
      "no_of_wc 0.0015447067083546283\n",
      "price 0.0015008123179712173\n",
      "no_of_bathrooms 0.0014551320840252063\n",
      "rooms 0.001124166764977614\n",
      "kitchens 0.001090212844925019\n"
     ]
    }
   ],
   "source": [
    "importance = sorted(zip(x.columns, bestF.best_estimator_.feature_importances_), key=lambda k: k[1], reverse=True)[:10]\n",
    "for col, v in importance:\n",
    "    if v == 0:\n",
    "        continue\n",
    "    print(col,v)"
   ]
  },
  {
   "cell_type": "code",
   "execution_count": 43,
   "id": "5b6fbbd4",
   "metadata": {},
   "outputs": [
    {
     "data": {
      "image/png": "[encoded data removed]",
      "text/plain": [
       "<Figure size 864x432 with 1 Axes>"
      ]
     },
     "metadata": {
      "needs_background": "light"
     },
     "output_type": "display_data"
    }
   ],
   "source": [
    "plt.bar(range(1, len(importance)+1), [imp for col, imp in importance])\n",
    "plt.title('Top 10 features')\n",
    "plt.xlabel('Features')\n",
    "plt.ylabel('Importance')\n",
    "plt.xticks(np.arange(1, 11), labels=[col for col, _ in importance], rotation=70, fontsize=14)\n",
    "plt.show();"
   ]
  },
  {
   "cell_type": "code",
   "execution_count": 71,
   "id": "4ea0453b",
   "metadata": {},
   "outputs": [
    {
     "data": {
      "text/html": [
       "<div>\n",
       "<style scoped>\n",
       "    .dataframe tbody tr th:only-of-type {\n",
       "        vertical-align: middle;\n",
       "    }\n",
       "\n",
       "    .dataframe tbody tr th {\n",
       "        vertical-align: top;\n",
       "    }\n",
       "\n",
       "    .dataframe thead th {\n",
       "        text-align: right;\n",
       "    }\n",
       "</style>\n",
       "<table border=\"1\" class=\"dataframe\">\n",
       "  <thead>\n",
       "    <tr style=\"text-align: right;\">\n",
       "      <th></th>\n",
       "      <th>ranking_score</th>\n",
       "      <th>agent_id</th>\n",
       "      <th>sq_meters</th>\n",
       "      <th>year_of_construction</th>\n",
       "      <th>floor</th>\n",
       "      <th>rooms</th>\n",
       "      <th>no_of_bathrooms</th>\n",
       "      <th>no_of_wc</th>\n",
       "      <th>living_rooms</th>\n",
       "      <th>kitchens</th>\n",
       "      <th>...</th>\n",
       "      <th>neoclassic</th>\n",
       "      <th>double_glass</th>\n",
       "      <th>for_commercial_use</th>\n",
       "      <th>fireplace</th>\n",
       "      <th>elevator</th>\n",
       "      <th>satellite</th>\n",
       "      <th>solar_heater</th>\n",
       "      <th>attic</th>\n",
       "      <th>pool</th>\n",
       "      <th>playroom</th>\n",
       "    </tr>\n",
       "  </thead>\n",
       "  <tbody>\n",
       "    <tr>\n",
       "      <th>0</th>\n",
       "      <td>0.185851</td>\n",
       "      <td>0.619899</td>\n",
       "      <td>0.100580</td>\n",
       "      <td>0.867958</td>\n",
       "      <td>0.937353</td>\n",
       "      <td>0.015686</td>\n",
       "      <td>0.000000</td>\n",
       "      <td>0.000000</td>\n",
       "      <td>0.000000</td>\n",
       "      <td>0.000000</td>\n",
       "      <td>...</td>\n",
       "      <td>0</td>\n",
       "      <td>0</td>\n",
       "      <td>0</td>\n",
       "      <td>0</td>\n",
       "      <td>0</td>\n",
       "      <td>0</td>\n",
       "      <td>0</td>\n",
       "      <td>0</td>\n",
       "      <td>0</td>\n",
       "      <td>0</td>\n",
       "    </tr>\n",
       "    <tr>\n",
       "      <th>1</th>\n",
       "      <td>0.711631</td>\n",
       "      <td>0.678442</td>\n",
       "      <td>0.114172</td>\n",
       "      <td>0.856514</td>\n",
       "      <td>0.949475</td>\n",
       "      <td>0.019608</td>\n",
       "      <td>0.190476</td>\n",
       "      <td>0.045455</td>\n",
       "      <td>0.016667</td>\n",
       "      <td>0.090909</td>\n",
       "      <td>...</td>\n",
       "      <td>1</td>\n",
       "      <td>2</td>\n",
       "      <td>1</td>\n",
       "      <td>2</td>\n",
       "      <td>2</td>\n",
       "      <td>1</td>\n",
       "      <td>1</td>\n",
       "      <td>2</td>\n",
       "      <td>1</td>\n",
       "      <td>2</td>\n",
       "    </tr>\n",
       "    <tr>\n",
       "      <th>2</th>\n",
       "      <td>0.329736</td>\n",
       "      <td>0.272844</td>\n",
       "      <td>0.055817</td>\n",
       "      <td>0.871479</td>\n",
       "      <td>0.569832</td>\n",
       "      <td>0.007843</td>\n",
       "      <td>0.095238</td>\n",
       "      <td>0.045455</td>\n",
       "      <td>0.000000</td>\n",
       "      <td>0.000000</td>\n",
       "      <td>...</td>\n",
       "      <td>0</td>\n",
       "      <td>0</td>\n",
       "      <td>0</td>\n",
       "      <td>2</td>\n",
       "      <td>0</td>\n",
       "      <td>0</td>\n",
       "      <td>0</td>\n",
       "      <td>0</td>\n",
       "      <td>0</td>\n",
       "      <td>0</td>\n",
       "    </tr>\n",
       "    <tr>\n",
       "      <th>3</th>\n",
       "      <td>0.635492</td>\n",
       "      <td>0.620041</td>\n",
       "      <td>0.015042</td>\n",
       "      <td>0.869718</td>\n",
       "      <td>0.577756</td>\n",
       "      <td>0.011765</td>\n",
       "      <td>0.047619</td>\n",
       "      <td>0.045455</td>\n",
       "      <td>0.000000</td>\n",
       "      <td>0.090909</td>\n",
       "      <td>...</td>\n",
       "      <td>1</td>\n",
       "      <td>2</td>\n",
       "      <td>1</td>\n",
       "      <td>2</td>\n",
       "      <td>2</td>\n",
       "      <td>1</td>\n",
       "      <td>1</td>\n",
       "      <td>1</td>\n",
       "      <td>1</td>\n",
       "      <td>1</td>\n",
       "    </tr>\n",
       "    <tr>\n",
       "      <th>4</th>\n",
       "      <td>0.663669</td>\n",
       "      <td>0.620041</td>\n",
       "      <td>0.033164</td>\n",
       "      <td>0.869718</td>\n",
       "      <td>0.578001</td>\n",
       "      <td>0.015686</td>\n",
       "      <td>0.047619</td>\n",
       "      <td>0.090909</td>\n",
       "      <td>0.000000</td>\n",
       "      <td>0.090909</td>\n",
       "      <td>...</td>\n",
       "      <td>1</td>\n",
       "      <td>2</td>\n",
       "      <td>1</td>\n",
       "      <td>2</td>\n",
       "      <td>2</td>\n",
       "      <td>1</td>\n",
       "      <td>1</td>\n",
       "      <td>1</td>\n",
       "      <td>1</td>\n",
       "      <td>2</td>\n",
       "    </tr>\n",
       "    <tr>\n",
       "      <th>5</th>\n",
       "      <td>0.706235</td>\n",
       "      <td>0.620041</td>\n",
       "      <td>0.055455</td>\n",
       "      <td>0.873239</td>\n",
       "      <td>0.586041</td>\n",
       "      <td>0.023529</td>\n",
       "      <td>0.238095</td>\n",
       "      <td>0.045455</td>\n",
       "      <td>0.000000</td>\n",
       "      <td>0.272727</td>\n",
       "      <td>...</td>\n",
       "      <td>1</td>\n",
       "      <td>2</td>\n",
       "      <td>1</td>\n",
       "      <td>2</td>\n",
       "      <td>1</td>\n",
       "      <td>1</td>\n",
       "      <td>1</td>\n",
       "      <td>1</td>\n",
       "      <td>1</td>\n",
       "      <td>1</td>\n",
       "    </tr>\n",
       "    <tr>\n",
       "      <th>6</th>\n",
       "      <td>0.602518</td>\n",
       "      <td>0.208675</td>\n",
       "      <td>0.050562</td>\n",
       "      <td>0.872359</td>\n",
       "      <td>0.162427</td>\n",
       "      <td>0.011765</td>\n",
       "      <td>0.095238</td>\n",
       "      <td>0.045455</td>\n",
       "      <td>0.016667</td>\n",
       "      <td>0.090909</td>\n",
       "      <td>...</td>\n",
       "      <td>1</td>\n",
       "      <td>1</td>\n",
       "      <td>1</td>\n",
       "      <td>2</td>\n",
       "      <td>2</td>\n",
       "      <td>1</td>\n",
       "      <td>1</td>\n",
       "      <td>1</td>\n",
       "      <td>1</td>\n",
       "      <td>2</td>\n",
       "    </tr>\n",
       "    <tr>\n",
       "      <th>7</th>\n",
       "      <td>0.755396</td>\n",
       "      <td>0.571968</td>\n",
       "      <td>0.061254</td>\n",
       "      <td>0.857394</td>\n",
       "      <td>0.950480</td>\n",
       "      <td>0.019608</td>\n",
       "      <td>0.142857</td>\n",
       "      <td>0.090909</td>\n",
       "      <td>0.000000</td>\n",
       "      <td>0.090909</td>\n",
       "      <td>...</td>\n",
       "      <td>1</td>\n",
       "      <td>2</td>\n",
       "      <td>1</td>\n",
       "      <td>2</td>\n",
       "      <td>2</td>\n",
       "      <td>1</td>\n",
       "      <td>2</td>\n",
       "      <td>2</td>\n",
       "      <td>1</td>\n",
       "      <td>1</td>\n",
       "    </tr>\n",
       "    <tr>\n",
       "      <th>8</th>\n",
       "      <td>0.830336</td>\n",
       "      <td>0.152909</td>\n",
       "      <td>0.070315</td>\n",
       "      <td>0.870599</td>\n",
       "      <td>0.170780</td>\n",
       "      <td>0.023529</td>\n",
       "      <td>0.190476</td>\n",
       "      <td>0.045455</td>\n",
       "      <td>0.033333</td>\n",
       "      <td>0.181818</td>\n",
       "      <td>...</td>\n",
       "      <td>1</td>\n",
       "      <td>2</td>\n",
       "      <td>1</td>\n",
       "      <td>2</td>\n",
       "      <td>2</td>\n",
       "      <td>2</td>\n",
       "      <td>2</td>\n",
       "      <td>2</td>\n",
       "      <td>2</td>\n",
       "      <td>2</td>\n",
       "    </tr>\n",
       "    <tr>\n",
       "      <th>9</th>\n",
       "      <td>0.070743</td>\n",
       "      <td>0.396624</td>\n",
       "      <td>0.103480</td>\n",
       "      <td>1.000000</td>\n",
       "      <td>0.952571</td>\n",
       "      <td>0.000000</td>\n",
       "      <td>0.000000</td>\n",
       "      <td>0.000000</td>\n",
       "      <td>0.000000</td>\n",
       "      <td>0.000000</td>\n",
       "      <td>...</td>\n",
       "      <td>0</td>\n",
       "      <td>0</td>\n",
       "      <td>0</td>\n",
       "      <td>0</td>\n",
       "      <td>0</td>\n",
       "      <td>0</td>\n",
       "      <td>0</td>\n",
       "      <td>0</td>\n",
       "      <td>0</td>\n",
       "      <td>0</td>\n",
       "    </tr>\n",
       "  </tbody>\n",
       "</table>\n",
       "<p>10 rows × 52 columns</p>\n",
       "</div>"
      ],
      "text/plain": [
       "   ranking_score  agent_id  sq_meters  year_of_construction     floor  \\\n",
       "0       0.185851  0.619899   0.100580              0.867958  0.937353   \n",
       "1       0.711631  0.678442   0.114172              0.856514  0.949475   \n",
       "2       0.329736  0.272844   0.055817              0.871479  0.569832   \n",
       "3       0.635492  0.620041   0.015042              0.869718  0.577756   \n",
       "4       0.663669  0.620041   0.033164              0.869718  0.578001   \n",
       "5       0.706235  0.620041   0.055455              0.873239  0.586041   \n",
       "6       0.602518  0.208675   0.050562              0.872359  0.162427   \n",
       "7       0.755396  0.571968   0.061254              0.857394  0.950480   \n",
       "8       0.830336  0.152909   0.070315              0.870599  0.170780   \n",
       "9       0.070743  0.396624   0.103480              1.000000  0.952571   \n",
       "\n",
       "      rooms  no_of_bathrooms  no_of_wc  living_rooms  kitchens  ...  \\\n",
       "0  0.015686         0.000000  0.000000      0.000000  0.000000  ...   \n",
       "1  0.019608         0.190476  0.045455      0.016667  0.090909  ...   \n",
       "2  0.007843         0.095238  0.045455      0.000000  0.000000  ...   \n",
       "3  0.011765         0.047619  0.045455      0.000000  0.090909  ...   \n",
       "4  0.015686         0.047619  0.090909      0.000000  0.090909  ...   \n",
       "5  0.023529         0.238095  0.045455      0.000000  0.272727  ...   \n",
       "6  0.011765         0.095238  0.045455      0.016667  0.090909  ...   \n",
       "7  0.019608         0.142857  0.090909      0.000000  0.090909  ...   \n",
       "8  0.023529         0.190476  0.045455      0.033333  0.181818  ...   \n",
       "9  0.000000         0.000000  0.000000      0.000000  0.000000  ...   \n",
       "\n",
       "   neoclassic  double_glass  for_commercial_use  fireplace  elevator  \\\n",
       "0           0             0                   0          0         0   \n",
       "1           1             2                   1          2         2   \n",
       "2           0             0                   0          2         0   \n",
       "3           1             2                   1          2         2   \n",
       "4           1             2                   1          2         2   \n",
       "5           1             2                   1          2         1   \n",
       "6           1             1                   1          2         2   \n",
       "7           1             2                   1          2         2   \n",
       "8           1             2                   1          2         2   \n",
       "9           0             0                   0          0         0   \n",
       "\n",
       "   satellite  solar_heater  attic  pool  playroom  \n",
       "0          0             0      0     0         0  \n",
       "1          1             1      2     1         2  \n",
       "2          0             0      0     0         0  \n",
       "3          1             1      1     1         1  \n",
       "4          1             1      1     1         2  \n",
       "5          1             1      1     1         1  \n",
       "6          1             1      1     1         2  \n",
       "7          1             2      2     1         1  \n",
       "8          2             2      2     2         2  \n",
       "9          0             0      0     0         0  \n",
       "\n",
       "[10 rows x 52 columns]"
      ]
     },
     "execution_count": 71,
     "metadata": {},
     "output_type": "execute_result"
    }
   ],
   "source": [
    "y = df['price']\n",
    "scaler = MinMaxScaler()\n",
    "scaled = scaler.fit(numerical_df)\n",
    "scaled = scaler.transform(numerical_df)\n",
    "\n",
    "scaled_features_df = pd.DataFrame(scaled, index=numerical_df.index, columns=numerical_df.columns).join(categorical_df)\n",
    "scaled_features_df.head(10)"
   ]
  }
 ],
 "metadata": {
  "kernelspec": {
   "display_name": "Python 3",
   "language": "python",
   "name": "python3"
  },
  "language_info": {
   "codemirror_mode": {
    "name": "ipython",
    "version": 3
   },
   "file_extension": ".py",
   "mimetype": "text/x-python",
   "name": "python",
   "nbconvert_exporter": "python",
   "pygments_lexer": "ipython3",
   "version": "3.8.8"
  }
 },
 "nbformat": 4,
 "nbformat_minor": 5
}
